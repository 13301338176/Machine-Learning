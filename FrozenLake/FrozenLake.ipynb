{
 "cells": [
  {
   "cell_type": "code",
   "execution_count": 27,
   "metadata": {},
   "outputs": [
    {
     "name": "stdout",
     "output_type": "stream",
     "text": [
      "[[0. 0. 0. 0.]\n",
      " [0. 0. 0. 0.]\n",
      " [0. 0. 0. 0.]\n",
      " [0. 0. 0. 0.]\n",
      " [0. 0. 0. 0.]\n",
      " [0. 0. 0. 0.]\n",
      " [0. 0. 0. 0.]\n",
      " [0. 0. 0. 0.]\n",
      " [0. 0. 0. 0.]\n",
      " [0. 0. 0. 0.]\n",
      " [0. 0. 0. 0.]\n",
      " [0. 0. 0. 0.]\n",
      " [0. 0. 0. 0.]\n",
      " [0. 0. 0. 0.]\n",
      " [0. 0. 0. 0.]\n",
      " [0. 0. 0. 0.]]\n",
      "1000  : 0.04300000000000003 \n",
      "\n",
      "2000  : 0.21300000000000016 \n",
      "\n",
      "3000  : 0.3840000000000003 \n",
      "\n",
      "4000  : 0.5700000000000004 \n",
      "\n",
      "5000  : 0.6570000000000005 \n",
      "\n",
      "6000  : 0.6670000000000005 \n",
      "\n",
      "7000  : 0.6640000000000005 \n",
      "\n",
      "8000  : 0.6870000000000005 \n",
      "\n",
      "9000  : 0.6810000000000005 \n",
      "\n",
      "10000  : 0.7200000000000005 \n",
      "\n"
     ]
    }
   ],
   "source": [
    "import numpy as np\n",
    "import gym\n",
    "import random\n",
    "import time\n",
    "from IPython.display import clear_output\n",
    "\n",
    "env = gym.make(\"FrozenLake-v0\")\n",
    "\n",
    "action_space_size = env.action_space.n\n",
    "state_space_size = env.observation_space.n\n",
    "\n",
    "\n",
    "q_table = np.zeros((state_space_size, action_space_size))\n",
    "\n",
    "print(q_table)\n",
    "\n",
    "total_episodes = 10000\n",
    "max_steps_in_episode = 100\n",
    "discount_rate = 0.99\n",
    "learning_rate = 0.1\n",
    "exploration_rate = 1\n",
    "max_exploration_rate = 1\n",
    "min_exploration_rate = 0.01\n",
    "exploration_decay_rate = 0.001\n",
    "\n",
    "rewards_all_episodes = []\n",
    "for episode in range(total_episodes):\n",
    "    state = env.reset()\n",
    "    done = False\n",
    "    reward_current_episode = 0\n",
    "    for steps in range(max_steps_in_episode):\n",
    "        #Decide either to exploit or explore\n",
    "        exploration_rate_threshold = random.uniform(0, 1)\n",
    "        if exploration_rate_threshold > exploration_rate:\n",
    "            #exploit\n",
    "            action = np.argmax(q_table[state, :])\n",
    "        else:\n",
    "            #explore\n",
    "            action = env.action_space.sample()\n",
    "        \n",
    "        new_state, reward, done, info = env.step(action)\n",
    "                \n",
    "        #Update q_table\n",
    "        q_table[state, action] = (1 - learning_rate)*q_table[state, action] + learning_rate*(reward + discount_rate*np.max(q_table[new_state, :]))\n",
    "        \n",
    "        state = new_state\n",
    "        reward_current_episode += reward\n",
    "        \n",
    "        if done == True:\n",
    "            break\n",
    "    rewards_all_episodes.append(reward_current_episode)\n",
    "    exploration_rate = min_exploration_rate + (max_exploration_rate - min_exploration_rate)*(np.exp(-exploration_decay_rate*episode))\n",
    "rewards_per_th_eps = np.split(np.array(rewards_all_episodes), total_episodes/1000)\n",
    "count = 1000\n",
    "for i in rewards_per_th_eps:\n",
    "    print(count, \" :\",sum(i/1000),\"\\n\")\n",
    "    count+= 1000\n",
    "\n",
    "        \n",
    "\n"
   ]
  },
  {
   "cell_type": "code",
   "execution_count": 30,
   "metadata": {},
   "outputs": [
    {
     "data": {
      "text/plain": [
       "numpy.ndarray"
      ]
     },
     "execution_count": 30,
     "metadata": {},
     "output_type": "execute_result"
    }
   ],
   "source": [
    "type(q_table)\n"
   ]
  },
  {
   "cell_type": "code",
   "execution_count": 35,
   "metadata": {},
   "outputs": [
    {
     "name": "stdout",
     "output_type": "stream",
     "text": [
      "  (Down)\n",
      "SFFF\n",
      "FHFH\n",
      "FFFH\n",
      "HFF\u001b[41mG\u001b[0m\n",
      "You made it to the freesbe!!\n"
     ]
    }
   ],
   "source": [
    "max_steps_in_episode = 100\n",
    "for episode in range(3):\n",
    "    env.reset()\n",
    "    print(\"Episode:\", episode + 1,\"\\n\")\n",
    "    time.sleep(1)\n",
    "    done = False\n",
    "    for step in range(max_steps_in_episode):\n",
    "        clear_output(wait = True)\n",
    "        env.render()\n",
    "        time.sleep(0.3)\n",
    "        action = np.argmax(q_table[state, :])\n",
    "        new_state, reward, done, info = env.step(action)\n",
    "        \n",
    "        if done:\n",
    "            \n",
    "            clear_output(wait = True)\n",
    "            env.render()\n",
    "            time.sleep(1)\n",
    "            if reward == 1:\n",
    "                print(\"You made it to the freesbe!!\")\n",
    "                time.sleep(3)\n",
    "            else:\n",
    "                print(\"You fell into a hole!!\")\n",
    "                time.sleep(3)\n",
    "            clear_output(wait = True)\n",
    "            break\n",
    "        state = new_state\n",
    "env.close()\n",
    "        \n",
    "            \n",
    "        \n",
    "        "
   ]
  },
  {
   "cell_type": "code",
   "execution_count": null,
   "metadata": {},
   "outputs": [],
   "source": []
  }
 ],
 "metadata": {
  "kernelspec": {
   "display_name": "Python 3",
   "language": "python",
   "name": "python3"
  },
  "language_info": {
   "codemirror_mode": {
    "name": "ipython",
    "version": 3
   },
   "file_extension": ".py",
   "mimetype": "text/x-python",
   "name": "python",
   "nbconvert_exporter": "python",
   "pygments_lexer": "ipython3",
   "version": "3.6.8"
  }
 },
 "nbformat": 4,
 "nbformat_minor": 2
}
